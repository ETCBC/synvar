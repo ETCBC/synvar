{
 "metadata": {
  "name": "",
  "signature": "sha256:88adf276c31a1dedad3fe89177df6d8e328cb67b7bec83d9972135cd19116184"
 },
 "nbformat": 3,
 "nbformat_minor": 0,
 "worksheets": [
  {
   "cells": [
    {
     "cell_type": "code",
     "collapsed": false,
     "input": [
      "import sys\n",
      "import collections\n",
      "import subprocess\n",
      "\n",
      "from lxml import etree\n",
      "\n",
      "import laf\n",
      "from laf.fabric import LafFabric\n",
      "from etcbc.preprocess import prepare\n",
      "from etcbc.mql import MQL\n",
      "fabric = LafFabric()"
     ],
     "language": "python",
     "metadata": {},
     "outputs": [
      {
       "output_type": "stream",
       "stream": "stderr",
       "text": [
        "  0.00s This is LAF-Fabric 4.4.6\n",
        "API reference: http://laf-fabric.readthedocs.org/en/latest/texts/API-reference.html\n",
        "Feature doc: http://shebanq-doc.readthedocs.org/en/latest/texts/welcome.html\n",
        "\n"
       ]
      }
     ],
     "prompt_number": 1
    },
    {
     "cell_type": "code",
     "collapsed": false,
     "input": [
      "API = fabric.load('etcbc4', '--', 'mql', {\n",
      "    \"xmlids\": {\"node\": False, \"edge\": False},\n",
      "    \"features\": ('''\n",
      "        oid otype monads\n",
      "        g_word g_word_utf8 g_cons lex \n",
      "        typ code function rela det\n",
      "        txt prs\n",
      "        book chapter verse label\n",
      "    ''','''\n",
      "        functional_parent\n",
      "    '''),\n",
      "    \"prepare\": prepare,\n",
      "}, verbose='DETAIL')\n",
      "exec(fabric.localnames.format(var='fabric'))\n",
      "Q = MQL(API)"
     ],
     "language": "python",
     "metadata": {},
     "outputs": [
      {
       "output_type": "stream",
       "stream": "stderr",
       "text": [
        "  0.00s LOADING API: please wait ... \n"
       ]
      },
      {
       "output_type": "stream",
       "stream": "stderr",
       "text": [
        "  0.00s DETAIL: COMPILING m: UP TO DATE\n"
       ]
      },
      {
       "output_type": "stream",
       "stream": "stderr",
       "text": [
        "  0.01s INFO: USING DATA COMPILED AT: 2014-07-23T09-31-37\n"
       ]
      },
      {
       "output_type": "stream",
       "stream": "stderr",
       "text": [
        "  0.01s DETAIL: COMPILING a: UP TO DATE\n"
       ]
      },
      {
       "output_type": "stream",
       "stream": "stderr",
       "text": [
        "  0.04s DETAIL: load main: G.node_anchor_min\n"
       ]
      },
      {
       "output_type": "stream",
       "stream": "stderr",
       "text": [
        "  0.16s DETAIL: load main: G.node_anchor_max\n"
       ]
      },
      {
       "output_type": "stream",
       "stream": "stderr",
       "text": [
        "  0.30s DETAIL: load main: G.node_sort\n"
       ]
      },
      {
       "output_type": "stream",
       "stream": "stderr",
       "text": [
        "  0.44s DETAIL: load main: G.node_sort_inv\n"
       ]
      },
      {
       "output_type": "stream",
       "stream": "stderr",
       "text": [
        "  1.33s DETAIL: load main: G.edges_from\n"
       ]
      },
      {
       "output_type": "stream",
       "stream": "stderr",
       "text": [
        "  1.47s DETAIL: load main: G.edges_to\n"
       ]
      },
      {
       "output_type": "stream",
       "stream": "stderr",
       "text": [
        "  1.62s DETAIL: load main: F.etcbc4_db_monads [node] \n"
       ]
      },
      {
       "output_type": "stream",
       "stream": "stderr",
       "text": [
        "  3.19s DETAIL: load main: F.etcbc4_db_oid [node] \n"
       ]
      },
      {
       "output_type": "stream",
       "stream": "stderr",
       "text": [
        "  5.01s DETAIL: load main: F.etcbc4_db_otype [node] \n"
       ]
      },
      {
       "output_type": "stream",
       "stream": "stderr",
       "text": [
        "  6.73s DETAIL: load main: F.etcbc4_ft_code [node] \n"
       ]
      },
      {
       "output_type": "stream",
       "stream": "stderr",
       "text": [
        "  6.82s DETAIL: load main: F.etcbc4_ft_det [node] \n"
       ]
      },
      {
       "output_type": "stream",
       "stream": "stderr",
       "text": [
        "  7.30s DETAIL: load main: F.etcbc4_ft_function [node] \n"
       ]
      },
      {
       "output_type": "stream",
       "stream": "stderr",
       "text": [
        "  7.67s DETAIL: load main: F.etcbc4_ft_g_cons [node] \n"
       ]
      },
      {
       "output_type": "stream",
       "stream": "stderr",
       "text": [
        "  8.08s DETAIL: load main: F.etcbc4_ft_g_word [node] \n"
       ]
      },
      {
       "output_type": "stream",
       "stream": "stderr",
       "text": [
        "  8.66s DETAIL: load main: F.etcbc4_ft_g_word_utf8 [node] \n"
       ]
      },
      {
       "output_type": "stream",
       "stream": "stderr",
       "text": [
        "  9.33s DETAIL: load main: F.etcbc4_ft_lex [node] \n"
       ]
      },
      {
       "output_type": "stream",
       "stream": "stderr",
       "text": [
        "  9.85s DETAIL: load main: F.etcbc4_ft_prs [node] \n"
       ]
      },
      {
       "output_type": "stream",
       "stream": "stderr",
       "text": [
        "    11s DETAIL: load main: F.etcbc4_ft_rela [node] \n"
       ]
      },
      {
       "output_type": "stream",
       "stream": "stderr",
       "text": [
        "    11s DETAIL: load main: F.etcbc4_ft_txt [node] \n"
       ]
      },
      {
       "output_type": "stream",
       "stream": "stderr",
       "text": [
        "    13s DETAIL: load main: F.etcbc4_ft_typ [node] \n"
       ]
      },
      {
       "output_type": "stream",
       "stream": "stderr",
       "text": [
        "    14s DETAIL: load main: F.etcbc4_sft_book [node] \n"
       ]
      },
      {
       "output_type": "stream",
       "stream": "stderr",
       "text": [
        "    14s DETAIL: load main: F.etcbc4_sft_chapter [node] \n"
       ]
      },
      {
       "output_type": "stream",
       "stream": "stderr",
       "text": [
        "    14s DETAIL: load main: F.etcbc4_sft_label [node] \n"
       ]
      },
      {
       "output_type": "stream",
       "stream": "stderr",
       "text": [
        "    14s DETAIL: load main: F.etcbc4_sft_verse [node] \n"
       ]
      },
      {
       "output_type": "stream",
       "stream": "stderr",
       "text": [
        "    14s DETAIL: load main: F.etcbc4_ft_functional_parent [e] \n"
       ]
      },
      {
       "output_type": "stream",
       "stream": "stderr",
       "text": [
        "    14s DETAIL: load main: C.etcbc4_ft_functional_parent -> \n"
       ]
      },
      {
       "output_type": "stream",
       "stream": "stderr",
       "text": [
        "    18s DETAIL: load main: C.etcbc4_ft_functional_parent <- \n"
       ]
      },
      {
       "output_type": "stream",
       "stream": "stderr",
       "text": [
        "    23s LOGFILE=c:/Users/Martijn/laf-fabric-output/etcbc4/mql/__log__mql.txt\n"
       ]
      },
      {
       "output_type": "stream",
       "stream": "stderr",
       "text": [
        "    23s DETAIL: prep prep: G.node_sort\n"
       ]
      },
      {
       "output_type": "stream",
       "stream": "stderr",
       "text": [
        "    26s DETAIL: prep prep: G.node_sort_inv\n"
       ]
      },
      {
       "output_type": "stream",
       "stream": "stderr",
       "text": [
        "    29s INFO: DATA LOADED FROM SOURCE etcbc4 AND ANNOX -- FOR TASK mql AT 2015-01-22T10-04-37\n"
       ]
      }
     ],
     "prompt_number": 2
    },
    {
     "cell_type": "markdown",
     "metadata": {},
     "source": [
      "###do the queries\n",
      "\n",
      "yesh_query1 searches for all clause atoms containing JC/ and >JN/ .\n",
      "yesh_query2 searches for all phrases in all clause atoms."
     ]
    },
    {
     "cell_type": "code",
     "collapsed": false,
     "input": [
      "yesh_query1 = '''\n",
      "select all objects where\n",
      "[book\n",
      "    [clause_atom\n",
      "        [phrase\n",
      "            [phrase_atom\n",
      "                [word lex=\"JC/\" or lex=\">JN/\"]\n",
      "            ]\n",
      "         ]   \n",
      "    ]\n",
      "]\n",
      "'''\n",
      "yesh_query2 = '''\n",
      "select all objects where\n",
      "    [clause_atom\n",
      "        [phrase]\n",
      "    ]\n",
      "'''"
     ],
     "language": "python",
     "metadata": {},
     "outputs": []
    },
    {
     "cell_type": "code",
     "collapsed": false,
     "input": [
      "sheaf1 = Q.mql(yesh_query1)\n",
      "sheaf2 = Q.mql(yesh_query2)"
     ],
     "language": "python",
     "metadata": {},
     "outputs": [],
     "prompt_number": 73
    },
    {
     "cell_type": "markdown",
     "metadata": {},
     "source": [
      "###Create a dictionary\n",
      "The dictionary contains the clause atoms (keys) and their phrases (values)."
     ]
    },
    {
     "cell_type": "code",
     "collapsed": false,
     "input": [
      "ca_index = collections.defaultdict(lambda: [])\n",
      "n_ph = 0\n",
      "for ((ca, ((ph,),)),) in sheaf2.results():\n",
      "    n_ph +=1\n",
      "    ca_index[ca].append(ph)\n",
      "print('Clause atoms: {}'.format(len(ca_index)))\n",
      "print('Phrases: {}'.format(n_ph))"
     ],
     "language": "python",
     "metadata": {},
     "outputs": [
      {
       "output_type": "stream",
       "stream": "stdout",
       "text": [
        "Clause atoms: 89848\n",
        "Phrases: 254405\n"
       ]
      }
     ],
     "prompt_number": 74
    },
    {
     "cell_type": "markdown",
     "metadata": {},
     "source": [
      "###Create two dictionaries with phrase functions\n",
      "These dictionaries contain the phrase functions of each phrase in all the clause atom containing JC/ or >JN/. There is a separation between 'before JC/ or >JN' and 'after JC/ or >JN/."
     ]
    },
    {
     "cell_type": "code",
     "collapsed": false,
     "input": [
      "max_before = 0\n",
      "max_after = 0\n",
      "context_before = {}\n",
      "context_after = {}\n",
      "extra_info = {}\n",
      "target_phrase = collections.OrderedDict()\n",
      "for ((bk, ((ca, ((ph, ((pha, ((w,),)),)),)),)),) in sheaf1.results():\n",
      "    phrases = ca_index[ca]\n",
      "    is_before = True\n",
      "    context_before[ca] = []\n",
      "    context_after[ca] = []\n",
      "    target_phrase[ca] = F.function.v(ph)\n",
      "    extra_info[ca] = (F.book.v(bk), F.code.v(ca))\n",
      "    for contextph in phrases:\n",
      "        if contextph == ph:\n",
      "            is_before = False\n",
      "        elif is_before:\n",
      "            context_before[ca].append(F.function.v(contextph))\n",
      "        else:\n",
      "            context_after[ca].append(F.function.v(contextph))\n",
      "    max_before = max((max_before, len(context_before[ca])))\n",
      "    max_after = max((max_after, len(context_after[ca])))\n",
      "    \n",
      "print('MaxBefore={}\\nMaxAfter={}'.format(max_before, max_after))    \n",
      "    "
     ],
     "language": "python",
     "metadata": {},
     "outputs": [
      {
       "output_type": "stream",
       "stream": "stdout",
       "text": [
        "MaxBefore=6\n",
        "MaxAfter=4\n"
       ]
      }
     ],
     "prompt_number": 75
    },
    {
     "cell_type": "code",
     "collapsed": false,
     "input": [
      "csvh = outfile('jsphrases.csv')\n",
      "for ca in target_phrase:\n",
      "    cbefore = context_before[ca]\n",
      "    cafter = context_after[ca]\n",
      "    extra = extra_info[ca]\n",
      "    row = [extra[0], extra[1], target_phrase[ca]]\n",
      "    row.extend([cbefore[i] if i < len(cbefore) else '' for i in range(max_before)])\n",
      "    row.extend([cafter[i] if i < len(cafter) else '' for i in range(max_after)])\n",
      "    csvh.write('{}\\n'.format(','.join(row)))\n",
      "csvh.close()"
     ],
     "language": "python",
     "metadata": {},
     "outputs": [],
     "prompt_number": 76
    },
    {
     "cell_type": "code",
     "collapsed": false,
     "input": [],
     "language": "python",
     "metadata": {},
     "outputs": [
      {
       "ename": "SyntaxError",
       "evalue": "invalid syntax (<ipython-input-53-d98f45d2af26>, line 6)",
       "output_type": "pyerr",
       "traceback": [
        "\u001b[1;36m  File \u001b[1;32m\"<ipython-input-53-d98f45d2af26>\"\u001b[1;36m, line \u001b[1;32m6\u001b[0m\n\u001b[1;33m    for (phrase,) in phrases:\u001b[0m\n\u001b[1;37m      ^\u001b[0m\n\u001b[1;31mSyntaxError\u001b[0m\u001b[1;31m:\u001b[0m invalid syntax\n"
       ]
      }
     ],
     "prompt_number": 53
    }
   ],
   "metadata": {}
  }
 ]
}